{
 "cells": [
  {
   "cell_type": "code",
   "execution_count": 1,
   "metadata": {},
   "outputs": [],
   "source": [
    "import pandas as pd\n",
    "import numpy as np\n",
    "import matplotlib.pyplot as plt"
   ]
  },
  {
   "cell_type": "code",
   "execution_count": null,
   "metadata": {},
   "outputs": [],
   "source": [
    "df=pd.read_excel(r\"C:\\Users\\rajla\\Desktop\\IRP\\Recruit_Data.xlsx\", Sheet=1)"
   ]
  },
  {
   "cell_type": "code",
   "execution_count": 3,
   "metadata": {},
   "outputs": [
    {
     "data": {
      "text/html": [
       "<div>\n",
       "<style scoped>\n",
       "    .dataframe tbody tr th:only-of-type {\n",
       "        vertical-align: middle;\n",
       "    }\n",
       "\n",
       "    .dataframe tbody tr th {\n",
       "        vertical-align: top;\n",
       "    }\n",
       "\n",
       "    .dataframe thead th {\n",
       "        text-align: right;\n",
       "    }\n",
       "</style>\n",
       "<table border=\"1\" class=\"dataframe\">\n",
       "  <thead>\n",
       "    <tr style=\"text-align: right;\">\n",
       "      <th></th>\n",
       "      <th>Fact_Key</th>\n",
       "      <th>Post_ID</th>\n",
       "      <th>Ad_ID</th>\n",
       "      <th>Geo_Area</th>\n",
       "      <th>Posted_DateTime</th>\n",
       "      <th>Location_Status</th>\n",
       "      <th>Posting_Body_Key</th>\n",
       "      <th>Location_Key</th>\n",
       "      <th>Location_City_Key</th>\n",
       "      <th>Phone</th>\n",
       "      <th>Area Code</th>\n",
       "      <th>Email</th>\n",
       "      <th>State</th>\n",
       "    </tr>\n",
       "  </thead>\n",
       "  <tbody>\n",
       "    <tr>\n",
       "      <th>0</th>\n",
       "      <td>107731</td>\n",
       "      <td>CAokl_2017-06-26_068759493_2017-06-26</td>\n",
       "      <td>68759493</td>\n",
       "      <td>83</td>\n",
       "      <td>2017-06-26 13:07:00</td>\n",
       "      <td>2</td>\n",
       "      <td>293815</td>\n",
       "      <td>112774</td>\n",
       "      <td>39911</td>\n",
       "      <td>7752383599</td>\n",
       "      <td>775</td>\n",
       "      <td>monaselko@gmail.com</td>\n",
       "      <td>425</td>\n",
       "    </tr>\n",
       "    <tr>\n",
       "      <th>1</th>\n",
       "      <td>107731</td>\n",
       "      <td>CAokl_2017-06-26_068759493_2017-06-26</td>\n",
       "      <td>68759493</td>\n",
       "      <td>83</td>\n",
       "      <td>2017-06-26 13:07:00</td>\n",
       "      <td>2</td>\n",
       "      <td>293815</td>\n",
       "      <td>112774</td>\n",
       "      <td>39911</td>\n",
       "      <td>7752383599</td>\n",
       "      <td>775</td>\n",
       "      <td>monaselko@gmail.com</td>\n",
       "      <td>453</td>\n",
       "    </tr>\n",
       "    <tr>\n",
       "      <th>2</th>\n",
       "      <td>107731</td>\n",
       "      <td>CAokl_2017-06-26_068759493_2017-06-26</td>\n",
       "      <td>68759493</td>\n",
       "      <td>83</td>\n",
       "      <td>2017-06-26 13:07:00</td>\n",
       "      <td>2</td>\n",
       "      <td>293815</td>\n",
       "      <td>112774</td>\n",
       "      <td>39911</td>\n",
       "      <td>7752383599</td>\n",
       "      <td>775</td>\n",
       "      <td>monaselko@gmail.com</td>\n",
       "      <td>89</td>\n",
       "    </tr>\n",
       "    <tr>\n",
       "      <th>3</th>\n",
       "      <td>107731</td>\n",
       "      <td>CAokl_2017-06-26_068759493_2017-06-26</td>\n",
       "      <td>68759493</td>\n",
       "      <td>83</td>\n",
       "      <td>2017-06-26 13:07:00</td>\n",
       "      <td>2</td>\n",
       "      <td>293815</td>\n",
       "      <td>112774</td>\n",
       "      <td>39911</td>\n",
       "      <td>7752383599</td>\n",
       "      <td>775</td>\n",
       "      <td>monaselko@gmail.com</td>\n",
       "      <td>88</td>\n",
       "    </tr>\n",
       "    <tr>\n",
       "      <th>4</th>\n",
       "      <td>107731</td>\n",
       "      <td>CAokl_2017-06-26_068759493_2017-06-26</td>\n",
       "      <td>68759493</td>\n",
       "      <td>83</td>\n",
       "      <td>2017-06-26 13:07:00</td>\n",
       "      <td>2</td>\n",
       "      <td>293815</td>\n",
       "      <td>112774</td>\n",
       "      <td>39911</td>\n",
       "      <td>7752383599</td>\n",
       "      <td>775</td>\n",
       "      <td>monaselko@gmail.com</td>\n",
       "      <td>88</td>\n",
       "    </tr>\n",
       "  </tbody>\n",
       "</table>\n",
       "</div>"
      ],
      "text/plain": [
       "   Fact_Key                                Post_ID     Ad_ID  Geo_Area  \\\n",
       "0    107731  CAokl_2017-06-26_068759493_2017-06-26  68759493        83   \n",
       "1    107731  CAokl_2017-06-26_068759493_2017-06-26  68759493        83   \n",
       "2    107731  CAokl_2017-06-26_068759493_2017-06-26  68759493        83   \n",
       "3    107731  CAokl_2017-06-26_068759493_2017-06-26  68759493        83   \n",
       "4    107731  CAokl_2017-06-26_068759493_2017-06-26  68759493        83   \n",
       "\n",
       "      Posted_DateTime  Location_Status  Posting_Body_Key  Location_Key  \\\n",
       "0 2017-06-26 13:07:00                2            293815        112774   \n",
       "1 2017-06-26 13:07:00                2            293815        112774   \n",
       "2 2017-06-26 13:07:00                2            293815        112774   \n",
       "3 2017-06-26 13:07:00                2            293815        112774   \n",
       "4 2017-06-26 13:07:00                2            293815        112774   \n",
       "\n",
       "   Location_City_Key       Phone  Area Code                Email  State  \n",
       "0              39911  7752383599        775  monaselko@gmail.com    425  \n",
       "1              39911  7752383599        775  monaselko@gmail.com    453  \n",
       "2              39911  7752383599        775  monaselko@gmail.com     89  \n",
       "3              39911  7752383599        775  monaselko@gmail.com     88  \n",
       "4              39911  7752383599        775  monaselko@gmail.com     88  "
      ]
     },
     "execution_count": 3,
     "metadata": {},
     "output_type": "execute_result"
    }
   ],
   "source": [
    "df.head()"
   ]
  },
  {
   "cell_type": "code",
   "execution_count": 4,
   "metadata": {},
   "outputs": [
    {
     "data": {
      "text/plain": [
       "(522094, 13)"
      ]
     },
     "execution_count": 4,
     "metadata": {},
     "output_type": "execute_result"
    }
   ],
   "source": [
    "df.shape"
   ]
  },
  {
   "cell_type": "code",
   "execution_count": 5,
   "metadata": {},
   "outputs": [
    {
     "ename": "AttributeError",
     "evalue": "module 'random' has no attribute 'df'",
     "output_type": "error",
     "traceback": [
      "\u001b[1;31m---------------------------------------------------------------------------\u001b[0m",
      "\u001b[1;31mAttributeError\u001b[0m                            Traceback (most recent call last)",
      "\u001b[1;32m<ipython-input-5-ba86980ddcc8>\u001b[0m in \u001b[0;36m<module>\u001b[1;34m\u001b[0m\n\u001b[0;32m      1\u001b[0m \u001b[1;32mimport\u001b[0m \u001b[0mrandom\u001b[0m\u001b[1;33m\u001b[0m\u001b[1;33m\u001b[0m\u001b[0m\n\u001b[1;32m----> 2\u001b[1;33m \u001b[0mprint\u001b[0m\u001b[1;33m(\u001b[0m\u001b[1;34m\"random list\"\u001b[0m\u001b[1;33m,\u001b[0m\u001b[0mrandom\u001b[0m\u001b[1;33m.\u001b[0m\u001b[0mdf\u001b[0m\u001b[1;33m(\u001b[0m\u001b[1;36m1000\u001b[0m\u001b[1;33m)\u001b[0m\u001b[1;33m)\u001b[0m\u001b[1;33m\u001b[0m\u001b[1;33m\u001b[0m\u001b[0m\n\u001b[0m",
      "\u001b[1;31mAttributeError\u001b[0m: module 'random' has no attribute 'df'"
     ]
    }
   ],
   "source": [
    "import random\n",
    "print(\"random list\",random.df(1000))"
   ]
  },
  {
   "cell_type": "code",
   "execution_count": 5,
   "metadata": {},
   "outputs": [
    {
     "data": {
      "image/png": "[encoded data removed]",
      "text/plain": [
       "<Figure size 432x288 with 2 Axes>"
      ]
     },
     "metadata": {
      "needs_background": "light"
     },
     "output_type": "display_data"
    }
   ],
   "source": [
    "corr=df.corr()\n",
    "fig = plt.figure()\n",
    "ax=fig.add_subplot(111)\n",
    "cax=ax.matshow(corr,cmap='coolwarm',vmin=-1,vmax=1)\n",
    "fig.colorbar(cax)\n",
    "ticks=np.arange(0,len(df.columns),1)\n",
    "ax.set_xticks(ticks)\n",
    "plt.xticks(rotation=90)\n",
    "ax.set_yticks(ticks)\n",
    "ax.set_xticklabels(df.columns)\n",
    "ax.set_yticklabels(df.columns)\n",
    "plt.show()"
   ]
  },
  {
   "cell_type": "code",
   "execution_count": 7,
   "metadata": {},
   "outputs": [
    {
     "data": {
      "image/png": "[encoded data removed]",
      "text/plain": [
       "<Figure size 432x288 with 2 Axes>"
      ]
     },
     "metadata": {
      "needs_background": "light"
     },
     "output_type": "display_data"
    }
   ],
   "source": [
    "corr=df.corr()\n",
    "fig = plt.figure()\n",
    "ax=fig.add_subplot(111)\n",
    "cax=ax.matshow(corr,cmap='coolwarm',vmin=-1,vmax=1)\n",
    "fig.colorbar(cax)\n",
    "ticks=np.arange(0,len(df.columns),1)\n",
    "ax.set_xticks(ticks)\n",
    "plt.xticks(rotation=90)\n",
    "ax.set_yticks(ticks)\n",
    "ax.set_xticklabels(df.Phone)\n",
    "ax.set_yticklabels(df.Email)\n",
    "plt.show()\n"
   ]
  },
  {
   "cell_type": "code",
   "execution_count": null,
   "metadata": {},
   "outputs": [],
   "source": []
  }
 ],
 "metadata": {
  "kernelspec": {
   "display_name": "Python 3",
   "language": "python",
   "name": "python3"
  },
  "language_info": {
   "codemirror_mode": {
    "name": "ipython",
    "version": 3
   },
   "file_extension": ".py",
   "mimetype": "text/x-python",
   "name": "python",
   "nbconvert_exporter": "python",
   "pygments_lexer": "ipython3",
   "version": "3.7.3"
  }
 },
 "nbformat": 4,
 "nbformat_minor": 2
}
